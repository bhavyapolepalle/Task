{
 "cells": [
  {
   "cell_type": "code",
   "execution_count": 2,
   "metadata": {},
   "outputs": [
    {
     "name": "stdout",
     "output_type": "stream",
     "text": [
      "Total number of vowels in the string 12\n",
      "Number of A in the string: 1\n",
      "Number of E in the string: 5\n",
      "Number of I in the string: 4\n",
      "Number of O in the string: 1\n",
      "Number of U in the string: 1\n"
     ]
    }
   ],
   "source": [
    "count=0\n",
    "count1=0\n",
    "count2=0\n",
    "count3=0\n",
    "count4=0\n",
    "n=\"Guvi Geeks Network Private Limited\"\n",
    "for i in n:\n",
    "    if(i==\"a\"):\n",
    "       count=count+1\n",
    "    elif(i==\"e\"):\n",
    "        count1=count1+1\n",
    "    elif(i==\"i\"):\n",
    "        count2=count2+1\n",
    "    elif(i==\"o\"):\n",
    "        count3=count3+1\n",
    "    elif(i==\"u\"):\n",
    "        count4=count4+1\n",
    "T=count+count1+count2+count3+count4\n",
    "print(\"Total number of vowels in the string\",T)\n",
    "print(\"Number of A in the string:\",count)\n",
    "print(\"Number of E in the string:\",count1)\n",
    "print(\"Number of I in the string:\",count2)\n",
    "print(\"Number of O in the string:\",count3)\n",
    "print(\"Number of U in the string:\",count4)      \n",
    "        "
   ]
  }
 ],
 "metadata": {
  "kernelspec": {
   "display_name": "Python 3",
   "language": "python",
   "name": "python3"
  },
  "language_info": {
   "codemirror_mode": {
    "name": "ipython",
    "version": 3
   },
   "file_extension": ".py",
   "mimetype": "text/x-python",
   "name": "python",
   "nbconvert_exporter": "python",
   "pygments_lexer": "ipython3",
   "version": "3.12.2"
  }
 },
 "nbformat": 4,
 "nbformat_minor": 2
}
