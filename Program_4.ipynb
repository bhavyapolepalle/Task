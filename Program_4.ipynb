{
 "cells": [
  {
   "cell_type": "code",
   "execution_count": null,
   "metadata": {},
   "outputs": [],
   "source": [
    "def count_unique(input_string):\n",
    "    unique_characters = set(input_string)\n",
    "    return len(unique_characters)\n",
    "user_input = input(\"Enter a string: \")\n",
    "\n",
    "result = count_unique(user_input)\n",
    "print(\"Number of unique characters:\", result)"
   ]
  }
 ],
 "metadata": {
  "language_info": {
   "name": "python"
  }
 },
 "nbformat": 4,
 "nbformat_minor": 2
}
