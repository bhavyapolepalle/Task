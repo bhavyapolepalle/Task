{
 "cells": [
  {
   "cell_type": "code",
   "execution_count": null,
   "metadata": {},
   "outputs": [],
   "source": [
    "def is_palindrome(input_str):\n",
    "    input_str = input_str.lower()\n",
    "    input_str = input_str.replace(\" \", \"\")\n",
    "    return input_str == input_str[::-1]\n",
    "user_input = input(\"Enter a string: \")\n",
    "res = is_palindrome(user_input)\n",
    "if res:\n",
    "    print(\"The string is a palindrome.\")\n",
    "else:\n",
    "    print(\"The string is not a palindrome.\")"
   ]
  }
 ],
 "metadata": {
  "kernelspec": {
   "display_name": "Python 3",
   "language": "python",
   "name": "python3"
  },
  "language_info": {
   "name": "python",
   "version": "3.12.2"
  }
 },
 "nbformat": 4,
 "nbformat_minor": 2
}
