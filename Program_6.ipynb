{
 "cells": [
  {
   "cell_type": "code",
   "execution_count": 1,
   "metadata": {},
   "outputs": [
    {
     "name": "stdout",
     "output_type": "stream",
     "text": [
      "Longest common substring: \n"
     ]
    }
   ],
   "source": [
    "def longest_common_substring(str1, str2):\n",
    "    \n",
    "    len_matrix = [[0] * (len(str2) + 1) for _ in range(len(str1) + 1)]\n",
    "\n",
    "    \n",
    "    max_length = 0\n",
    "    end_index_str1 = 0\n",
    "\n",
    " \n",
    "    for i in range(1, len(str1) + 1):\n",
    "        for j in range(1, len(str2) + 1):\n",
    "            if str1[i - 1] == str2[j - 1]:\n",
    "                len_matrix[i][j] = len_matrix[i - 1][j - 1] + 1\n",
    "                if len_matrix[i][j] > max_length:\n",
    "                    max_length = len_matrix[i][j]\n",
    "                    end_index_str1 = i - 1\n",
    "            else:\n",
    "                len_matrix[i][j] = 0\n",
    "\n",
    "  \n",
    "    longest_substring1 = str1[end_index_str1 - max_length + 1: end_index_str1 + 1]\n",
    "\n",
    "    return longest_substring1\n",
    "\n",
    "\n",
    "input_str1 = input(\"Enter the first string: \")\n",
    "input_str2 = input(\"Enter the second string: \")\n",
    "\n",
    "\n",
    "result = longest_common_substring(input_str1, input_str2)\n",
    "\n",
    "print(\"Longest common substring:\", result)"
   ]
  }
 ],
 "metadata": {
  "kernelspec": {
   "display_name": "Python 3",
   "language": "python",
   "name": "python3"
  },
  "language_info": {
   "codemirror_mode": {
    "name": "ipython",
    "version": 3
   },
   "file_extension": ".py",
   "mimetype": "text/x-python",
   "name": "python",
   "nbconvert_exporter": "python",
   "pygments_lexer": "ipython3",
   "version": "3.12.2"
  }
 },
 "nbformat": 4,
 "nbformat_minor": 2
}
