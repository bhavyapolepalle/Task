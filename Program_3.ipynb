{
 "cells": [
  {
   "cell_type": "code",
   "execution_count": 1,
   "metadata": {},
   "outputs": [
    {
     "name": "stdout",
     "output_type": "stream",
     "text": [
      "enter string: GUVI PRIVATE LIMITED\n",
      "GV PRVT LMTD\n"
     ]
    }
   ],
   "source": [
    "def remove_vowels(string):\n",
    "    vowels = ['a', 'e', 'i', 'o', 'u', 'A', 'E', 'I', 'O', 'U']\n",
    "    result = \"\"\n",
    "    for char in string:\n",
    "        if char not in vowels:\n",
    "            result += char\n",
    "    return result\n",
    "input_string = \"GUVI PRIVATE LIMITED\"\n",
    "print(\"enter string:\",input_string)\n",
    "output_string = remove_vowels(input_string)\n",
    "print(output_string)"
   ]
  }
 ],
 "metadata": {
  "kernelspec": {
   "display_name": "Python 3",
   "language": "python",
   "name": "python3"
  },
  "language_info": {
   "codemirror_mode": {
    "name": "ipython",
    "version": 3
   },
   "file_extension": ".py",
   "mimetype": "text/x-python",
   "name": "python",
   "nbconvert_exporter": "python",
   "pygments_lexer": "ipython3",
   "version": "3.12.2"
  }
 },
 "nbformat": 4,
 "nbformat_minor": 2
}
