{
 "cells": [
  {
   "cell_type": "code",
   "execution_count": 4,
   "metadata": {},
   "outputs": [
    {
     "name": "stdout",
     "output_type": "stream",
     "text": [
      "                                      1 \n",
      "                                    1 2 1 \n",
      "                                  1 2 3 2 1 \n",
      "                                1 2 3 4 3 2 1 \n",
      "                              1 2 3 4 5 4 3 2 1 \n",
      "                            1 2 3 4 5 6 5 4 3 2 1 \n",
      "                          1 2 3 4 5 6 7 6 5 4 3 2 1 \n",
      "                        1 2 3 4 5 6 7 8 7 6 5 4 3 2 1 \n",
      "                      1 2 3 4 5 6 7 8 9 8 7 6 5 4 3 2 1 \n",
      "                    1 2 3 4 5 6 7 8 9 10 9 8 7 6 5 4 3 2 1 \n",
      "                  1 2 3 4 5 6 7 8 9 10 11 10 9 8 7 6 5 4 3 2 1 \n",
      "                1 2 3 4 5 6 7 8 9 10 11 12 11 10 9 8 7 6 5 4 3 2 1 \n",
      "              1 2 3 4 5 6 7 8 9 10 11 12 13 12 11 10 9 8 7 6 5 4 3 2 1 \n",
      "            1 2 3 4 5 6 7 8 9 10 11 12 13 14 13 12 11 10 9 8 7 6 5 4 3 2 1 \n",
      "          1 2 3 4 5 6 7 8 9 10 11 12 13 14 15 14 13 12 11 10 9 8 7 6 5 4 3 2 1 \n",
      "        1 2 3 4 5 6 7 8 9 10 11 12 13 14 15 16 15 14 13 12 11 10 9 8 7 6 5 4 3 2 1 \n",
      "      1 2 3 4 5 6 7 8 9 10 11 12 13 14 15 16 17 16 15 14 13 12 11 10 9 8 7 6 5 4 3 2 1 \n",
      "    1 2 3 4 5 6 7 8 9 10 11 12 13 14 15 16 17 18 17 16 15 14 13 12 11 10 9 8 7 6 5 4 3 2 1 \n",
      "  1 2 3 4 5 6 7 8 9 10 11 12 13 14 15 16 17 18 19 18 17 16 15 14 13 12 11 10 9 8 7 6 5 4 3 2 1 \n",
      "1 2 3 4 5 6 7 8 9 10 11 12 13 14 15 16 17 18 19 20 19 18 17 16 15 14 13 12 11 10 9 8 7 6 5 4 3 2 1 \n"
     ]
    }
   ],
   "source": [
    "\n",
    "def pyramid(rows):\n",
    "    for i in range(1, rows + 1):\n",
    "     \n",
    "        for j in range(rows - i):\n",
    "            print(\" \", end=\" \")\n",
    "\n",
    "        \n",
    "        for k in range(1, i + 1):\n",
    "            print(k, end=\" \")\n",
    "\n",
    "        \n",
    "        for l in range(i - 1, 0, -1):\n",
    "            print(l, end=\" \")\n",
    "\n",
    "     \n",
    "        print()\n",
    "\n",
    "tot_rows = 20  \n",
    "pyramid(tot_rows)"
   ]
  }
 ],
 "metadata": {
  "kernelspec": {
   "display_name": "Python 3",
   "language": "python",
   "name": "python3"
  },
  "language_info": {
   "codemirror_mode": {
    "name": "ipython",
    "version": 3
   },
   "file_extension": ".py",
   "mimetype": "text/x-python",
   "name": "python",
   "nbconvert_exporter": "python",
   "pygments_lexer": "ipython3",
   "version": "3.12.2"
  }
 },
 "nbformat": 4,
 "nbformat_minor": 2
}
